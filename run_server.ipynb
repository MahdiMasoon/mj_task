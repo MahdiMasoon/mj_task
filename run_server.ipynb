{
 "cells": [
  {
   "cell_type": "code",
   "execution_count": null,
   "id": "547cb269-6b02-4de9-be90-43e5cdf97c65",
   "metadata": {},
   "outputs": [],
   "source": [
    "!pip install pyngrok"
   ]
  },
  {
   "cell_type": "code",
   "execution_count": null,
   "id": "cb88397b-15e5-4dd7-a8e6-e53ddb963b54",
   "metadata": {},
   "outputs": [],
   "source": [
    "from pyngrok import ngrok\n",
    "\n",
    "# ایجاد تونل به پورت 8000 (یا هر پورتی که وب‌سرور شما روی آن اجرا می‌شود)\n",
    "public_url = ngrok.connect(8000)\n",
    "print(public_url)"
   ]
  }
 ],
 "metadata": {
  "kernelspec": {
   "display_name": "mj_task",
   "language": "python",
   "name": "mj_task"
  },
  "language_info": {
   "codemirror_mode": {
    "name": "ipython",
    "version": 3
   },
   "file_extension": ".py",
   "mimetype": "text/x-python",
   "name": "python",
   "nbconvert_exporter": "python",
   "pygments_lexer": "ipython3",
   "version": "3.10.12"
  }
 },
 "nbformat": 4,
 "nbformat_minor": 5
}
